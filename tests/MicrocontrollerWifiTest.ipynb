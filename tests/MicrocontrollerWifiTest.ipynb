{
 "cells": [
  {
   "cell_type": "code",
   "execution_count": 17,
   "metadata": {},
   "outputs": [],
   "source": [
    "import requests\n",
    "\n",
    "ESP_IP = \"100.69.39.74\"\n",
    "ESP_PORT = 80"
   ]
  },
  {
   "cell_type": "code",
   "execution_count": 18,
   "metadata": {},
   "outputs": [
    {
     "name": "stdout",
     "output_type": "stream",
     "text": [
      "Sending command to http://100.69.39.74:80/control: {0:90,4:90,7:90,8:90,11:90,15:90}\n",
      "HTTP Request Error: HTTPConnectionPool(host='100.69.39.74', port=80): Max retries exceeded with url: /control?commands=%7B0%3A90%2C4%3A90%2C7%3A90%2C8%3A90%2C11%3A90%2C15%3A90%7D (Caused by ConnectTimeoutError(<urllib3.connection.HTTPConnection object at 0x1184634c0>, 'Connection to 100.69.39.74 timed out. (connect timeout=5)'))\n"
     ]
    }
   ],
   "source": [
    "command = (\n",
    "    '{' +\n",
    "    f'0:{90},' +\n",
    "    f'4:{90},' +\n",
    "    f'7:{90},' +\n",
    "    f'8:{90},' +\n",
    "    f'11:{90},' +\n",
    "    f'15:{90}' +\n",
    "    '}'\n",
    ")\n",
    "\n",
    "url = f\"http://{ESP_IP}:{ESP_PORT}/control\"\n",
    "\n",
    "try:\n",
    "    print(f\"Sending command to {url}: {command}\")\n",
    "    response = requests.get(url, params={\"commands\": command}, timeout=5)\n",
    "\n",
    "    print(\"Status Code:\", response.status_code)\n",
    "    print(\"Response Text:\", response.text)\n",
    "except requests.exceptions.RequestException as e:\n",
    "    print(\"HTTP Request Error:\", e)"
   ]
  }
 ],
 "metadata": {
  "kernelspec": {
   "display_name": "env",
   "language": "python",
   "name": "python3"
  },
  "language_info": {
   "codemirror_mode": {
    "name": "ipython",
    "version": 3
   },
   "file_extension": ".py",
   "mimetype": "text/x-python",
   "name": "python",
   "nbconvert_exporter": "python",
   "pygments_lexer": "ipython3",
   "version": "3.10.4"
  }
 },
 "nbformat": 4,
 "nbformat_minor": 2
}
