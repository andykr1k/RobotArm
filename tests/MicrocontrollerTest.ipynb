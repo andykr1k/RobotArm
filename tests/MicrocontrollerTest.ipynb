{
 "cells": [
  {
   "cell_type": "code",
   "execution_count": 24,
   "metadata": {},
   "outputs": [],
   "source": [
    "import socket\n",
    "ESP_IP = \"100.69.39.74\"\n",
    "ESP_PORT = 80"
   ]
  },
  {
   "cell_type": "code",
   "execution_count": 25,
   "metadata": {},
   "outputs": [
    {
     "name": "stdout",
     "output_type": "stream",
     "text": [
      "Connected to ESP8266\n",
      "Full Response:\n",
      " HTTP/1.1 200 OK\n",
      "Content-Type: text/plain\n",
      "Content-Length: 24\n",
      "Connection: close\n",
      "\n",
      "ESP8266 Servo Controller\n",
      "\n",
      "Response Body:\n",
      " ESP8266 Servo Controller\n"
     ]
    }
   ],
   "source": [
    "client_socket = socket.socket(socket.AF_INET, socket.SOCK_STREAM)\n",
    "client_socket.settimeout(5)\n",
    "\n",
    "try:\n",
    "    client_socket.connect((ESP_IP, ESP_PORT))\n",
    "    print(\"Connected to ESP8266\")\n",
    "\n",
    "    request = \"GET / HTTP/1.1\\r\\nHost: {}\\r\\nConnection: close\\r\\n\\r\\n\".format(\n",
    "        ESP_IP)\n",
    "    client_socket.send(request.encode())\n",
    "\n",
    "    response = b\"\"\n",
    "    while True:\n",
    "        part = client_socket.recv(4096)\n",
    "        if not part:\n",
    "            break\n",
    "        response += part\n",
    "\n",
    "    res_str = response.decode()\n",
    "    print(\"Full Response:\\n\", res_str)\n",
    "\n",
    "    headers, body = res_str.split(\"\\r\\n\\r\\n\", 1)\n",
    "    print(\"\\nResponse Body:\\n\", body)\n",
    "\n",
    "except Exception as e:\n",
    "    print(\"Error:\", e)\n",
    "\n",
    "finally:\n",
    "    client_socket.close()"
   ]
  },
  {
   "cell_type": "code",
   "execution_count": null,
   "metadata": {},
   "outputs": [
    {
     "name": "stdout",
     "output_type": "stream",
     "text": [
      "{0:90,3:120,7:60,11:0,13:90,15:0}\n",
      "Received from ESP: b'Moving Servo: 0 to 90'\n",
      "Received from ESP: b'Moving Servo: 3 to 120'\n",
      "Received from ESP: b'Moving Servo: 7 to 60'\n",
      "Received from ESP: b'Moving Servo: 11 to 0'\n",
      "Received from ESP: b'Moving Servo: 13 to 90'\n",
      "Received from ESP: b'Moving Servo: 15 to 0'\n"
     ]
    }
   ],
   "source": [
    "command = (\n",
    "    '{' +\n",
    "    f'0:{90},' +\n",
    "    f'3:{120},' +\n",
    "    f'7:{60},' +\n",
    "    f'11:{0},' +\n",
    "    f'13:{90},' +\n",
    "    f'15:{0}' +\n",
    "    '}'\n",
    ")\n",
    "\n",
    "client_socket = socket.socket(socket.AF_INET, socket.SOCK_STREAM)\n",
    "client_socket.settimeout(5)\n",
    "\n",
    "try:\n",
    "    client_socket.connect((ESP_IP, ESP_PORT))\n",
    "    print(\"Connected to ESP8266\")\n",
    "\n",
    "    print(f\"Sending command: {command}\")\n",
    "    client_socket.sendall(command.encode())\n",
    "\n",
    "    response = b\"\"\n",
    "    while True:\n",
    "        part = client_socket.recv(4096)\n",
    "        if not part:\n",
    "            break\n",
    "        response += part\n",
    "\n",
    "    res_str = response.decode()\n",
    "    print(\"Full Response:\\n\", res_str)\n",
    "\n",
    "    headers, body = res_str.split(\"\\r\\n\\r\\n\", 1)\n",
    "    print(\"\\nResponse Body:\\n\", body)\n",
    "\n",
    "except Exception as e:\n",
    "    print(\"Error:\", e)\n",
    "\n",
    "finally:\n",
    "    client_socket.close()"
   ]
  }
 ],
 "metadata": {
  "kernelspec": {
   "display_name": "env",
   "language": "python",
   "name": "python3"
  },
  "language_info": {
   "codemirror_mode": {
    "name": "ipython",
    "version": 3
   },
   "file_extension": ".py",
   "mimetype": "text/x-python",
   "name": "python",
   "nbconvert_exporter": "python",
   "pygments_lexer": "ipython3",
   "version": "3.10.4"
  }
 },
 "nbformat": 4,
 "nbformat_minor": 2
}
