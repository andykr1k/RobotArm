{
 "cells": [
  {
   "cell_type": "code",
   "execution_count": null,
   "metadata": {},
   "outputs": [],
   "source": [
    "import serial\n",
    "import time\n",
    "\n",
    "ser = serial.Serial('/dev/cu.usbserial-0001', 9600, timeout=1)\n",
    "time.sleep(2)\n",
    "\n",
    "\n",
    "def read_from_esp():\n",
    "    \"\"\"Read and print data from the ESP.\"\"\"\n",
    "    while ser.in_waiting > 0:\n",
    "        line = ser.readline().rstrip()\n",
    "        if line:\n",
    "            print(f\"Received from ESP: {line}\")\n",
    "\n",
    "\n",
    "def send_to_esp(command):\n",
    "    print(command)\n",
    "    ser.write(command.encode())\n",
    "    time.sleep(2)\n",
    "    read_from_esp()"
   ]
  },
  {
   "cell_type": "code",
   "execution_count": 113,
   "metadata": {},
   "outputs": [
    {
     "name": "stdout",
     "output_type": "stream",
     "text": [
      "{0:90,4:90,7:90,8:90,11:90,15:90}\n",
      "Received from ESP: b'Moving Servo: 0 to 90.00'\n",
      "Received from ESP: b'Moving Servo: 4 to 90.00'\n",
      "Received from ESP: b'Moving Servo: 7 to 90.00'\n",
      "Received from ESP: b'Moving Servo: 8 to 90.00'\n",
      "Received from ESP: b'Moving Servo: 11 to 90.00'\n",
      "Received from ESP: b'Moving Servo: 15 to 90.00'\n",
      "{0:180,4:40,7:180,8:110,11:60}\n",
      "Received from ESP: b'Moving Servo: 0 to 180.00'\n",
      "Received from ESP: b'Moving Servo: 4 to 40.00'\n",
      "Received from ESP: b'Moving Servo: 7 to 180.00'\n",
      "Received from ESP: b'Moving Servo: 8 to 110.00'\n",
      "Received from ESP: b'Moving Servo: 11 to 60.00'\n",
      "{0:150,4:40,7:140,8:110,11:120}\n",
      "Received from ESP: b'Moving Servo: 0 to 150.00'\n",
      "Received from ESP: b'Moving Servo: 4 to 40.00'\n",
      "Received from ESP: b'Moving Servo: 7 to 140.00'\n",
      "Received from ESP: b'Moving Servo: 8 to 110.00'\n",
      "Received from ESP: b'Moving Servo: 11 to 120.00'\n",
      "{0:120,4:40,7:180,8:110,11:60}\n",
      "Received from ESP: b'Moving Servo: 0 to 120.00'\n",
      "Received from ESP: b'Moving Servo: 4 to 40.00'\n",
      "Received from ESP: b'Moving Servo: 7 to 180.00'\n",
      "Received from ESP: b'Moving Servo: 8 to 110.00'\n",
      "Received from ESP: b'Moving Servo: 11 to 60.00'\n",
      "{0:90,4:40,7:140,8:110,11:120}\n",
      "Received from ESP: b'Moving Servo: 0 to 90.00'\n",
      "Received from ESP: b'Moving Servo: 4 to 40.00'\n",
      "Received from ESP: b'Moving Servo: 7 to 140.00'\n",
      "Received from ESP: b'Moving Servo: 8 to 110.00'\n",
      "Received from ESP: b'Moving Servo: 11 to 120.00'\n",
      "{0:60,4:40,7:180,8:110,11:60}\n",
      "Received from ESP: b'Moving Servo: 0 to 60.00'\n",
      "Received from ESP: b'Moving Servo: 4 to 40.00'\n",
      "Received from ESP: b'Moving Servo: 7 to 180.00'\n",
      "Received from ESP: b'Moving Servo: 8 to 110.00'\n",
      "Received from ESP: b'Moving Servo: 11 to 60.00'\n",
      "{0:30,4:40,7:140,8:110,11:120}\n",
      "Received from ESP: b'Moving Servo: 0 to 30.00'\n",
      "Received from ESP: b'Moving Servo: 4 to 40.00'\n",
      "Received from ESP: b'Moving Servo: 7 to 140.00'\n",
      "Received from ESP: b'Moving Servo: 8 to 110.00'\n",
      "Received from ESP: b'Moving Servo: 11 to 120.00'\n",
      "{0:0,4:40,7:180,8:110,11:60}\n",
      "Received from ESP: b'Moving Servo: 0 to 0.00'\n",
      "Received from ESP: b'Moving Servo: 4 to 40.00'\n",
      "Received from ESP: b'Moving Servo: 7 to 180.00'\n",
      "Received from ESP: b'Moving Servo: 8 to 110.00'\n",
      "Received from ESP: b'Moving Servo: 11 to 60.00'\n",
      "{0:90,4:90,7:90,8:90,11:90,15:90}\n",
      "Received from ESP: b'Moving Servo: 0 to 90.00'\n",
      "Received from ESP: b'Moving Servo: 4 to 90.00'\n",
      "Received from ESP: b'Moving Servo: 7 to 90.00'\n",
      "Received from ESP: b'Moving Servo: 8 to 90.00'\n",
      "Received from ESP: b'Moving Servo: 11 to 90.00'\n",
      "Received from ESP: b'Moving Servo: 15 to 90.00'\n"
     ]
    }
   ],
   "source": [
    "send_to_esp(\"{0:90,4:90,7:90,8:90,11:90,15:90}\")\n",
    "send_to_esp(\"{0:180,4:40,7:180,8:110,11:60}\")\n",
    "send_to_esp(\"{0:150,4:40,7:140,8:110,11:120}\")\n",
    "send_to_esp(\"{0:120,4:40,7:180,8:110,11:60}\")\n",
    "send_to_esp(\"{0:90,4:40,7:140,8:110,11:120}\")\n",
    "send_to_esp(\"{0:60,4:40,7:180,8:110,11:60}\")\n",
    "send_to_esp(\"{0:30,4:40,7:140,8:110,11:120}\")\n",
    "send_to_esp(\"{0:0,4:40,7:180,8:110,11:60}\")\n",
    "send_to_esp(\"{0:90,4:90,7:90,8:90,11:90,15:90}\")"
   ]
  }
 ],
 "metadata": {
  "kernelspec": {
   "display_name": "env",
   "language": "python",
   "name": "python3"
  },
  "language_info": {
   "codemirror_mode": {
    "name": "ipython",
    "version": 3
   },
   "file_extension": ".py",
   "mimetype": "text/x-python",
   "name": "python",
   "nbconvert_exporter": "python",
   "pygments_lexer": "ipython3",
   "version": "3.10.4"
  }
 },
 "nbformat": 4,
 "nbformat_minor": 2
}
