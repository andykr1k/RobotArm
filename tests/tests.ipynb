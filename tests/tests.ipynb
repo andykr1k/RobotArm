{
 "cells": [
  {
   "cell_type": "markdown",
   "metadata": {},
   "source": [
    "# Imports"
   ]
  },
  {
   "cell_type": "code",
   "execution_count": 1,
   "metadata": {},
   "outputs": [],
   "source": [
    "import cv2"
   ]
  },
  {
   "cell_type": "markdown",
   "metadata": {},
   "source": [
    "## List Cameras"
   ]
  },
  {
   "cell_type": "code",
   "execution_count": 2,
   "metadata": {},
   "outputs": [
    {
     "name": "stderr",
     "output_type": "stream",
     "text": [
      "2024-09-12 10:41:49.559 Python[54626:77152840] WARNING: AVCaptureDeviceTypeExternal is deprecated for Continuity Cameras. Please use AVCaptureDeviceTypeContinuityCamera and add NSCameraUseContinuityCameraDeviceType to your Info.plist.\n"
     ]
    },
    {
     "name": "stdout",
     "output_type": "stream",
     "text": [
      "[09/12 10:41:51.892907][info][77152840][Context.cpp:69] Context created with config: default config!\n",
      "[09/12 10:41:51.892957][info][77152840][Context.cpp:74] Context work_dir=/Users/andrew/Desktop/Projects/RobotArm/tests\n",
      "[09/12 10:41:51.892959][info][77152840][Context.cpp:77] \t- SDK version: 1.9.4\n",
      "[09/12 10:41:51.892960][info][77152840][Context.cpp:78] \t- SDK stage version: main\n",
      "[09/12 10:41:51.892963][info][77152840][Context.cpp:82] get config EnumerateNetDevice:false\n",
      "[09/12 10:41:51.892965][info][77152840][MacPal.cpp:36] createObPal: create MacPal!\n",
      "[09/12 10:41:51.898754][info][77152840][MacPal.cpp:104] Create PollingDeviceWatcher!\n",
      "[09/12 10:41:51.898770][info][77152840][DeviceManager.cpp:15] Current found device(s): (0)\n",
      "[09/12 10:41:51.898776][info][77152840][Pipeline.cpp:15] Try to create pipeline with default device.\n",
      "[09/12 10:41:51.898779][warning][77152840][ObException.cpp:5] No device found, fail to create pipeline!\n",
      "[09/12 10:41:51.918638][info][77152840][Context.cpp:90] Context destroyed\n",
      "Available cameras: [0, 1]\n"
     ]
    },
    {
     "name": "stderr",
     "output_type": "stream",
     "text": [
      "OpenCV: out device of bound (0-1): 2\n",
      "OpenCV: camera failed to properly initialize!\n",
      "[ WARN:0@5.301] global cap.cpp:323 open VIDEOIO(OBSENSOR): raised unknown C++ exception!\n",
      "\n",
      "\n"
     ]
    }
   ],
   "source": [
    "def list_available_cameras():\n",
    "    index = 0\n",
    "    available_cameras = []\n",
    "\n",
    "    while True:\n",
    "        cap = cv2.VideoCapture(index)\n",
    "        if not cap.isOpened():\n",
    "            break\n",
    "        available_cameras.append(index)\n",
    "        cap.release()\n",
    "        index += 1\n",
    "\n",
    "    if available_cameras:\n",
    "        print(f\"Available cameras: {available_cameras}\")\n",
    "    else:\n",
    "        print(\"No cameras found.\")\n",
    "\n",
    "\n",
    "# Call the function\n",
    "list_available_cameras()"
   ]
  },
  {
   "cell_type": "markdown",
   "metadata": {},
   "source": [
    "## Show cameras"
   ]
  }
 ],
 "metadata": {
  "kernelspec": {
   "display_name": "env",
   "language": "python",
   "name": "python3"
  },
  "language_info": {
   "codemirror_mode": {
    "name": "ipython",
    "version": 3
   },
   "file_extension": ".py",
   "mimetype": "text/x-python",
   "name": "python",
   "nbconvert_exporter": "python",
   "pygments_lexer": "ipython3",
   "version": "3.10.4"
  }
 },
 "nbformat": 4,
 "nbformat_minor": 2
}
