{
 "cells": [
  {
   "cell_type": "markdown",
   "metadata": {},
   "source": [
    "# Imports"
   ]
  },
  {
   "cell_type": "code",
   "execution_count": 7,
   "metadata": {},
   "outputs": [],
   "source": [
    "import cv2"
   ]
  },
  {
   "cell_type": "markdown",
   "metadata": {},
   "source": [
    "## List Cameras"
   ]
  },
  {
   "cell_type": "code",
   "execution_count": 8,
   "metadata": {},
   "outputs": [
    {
     "name": "stdout",
     "output_type": "stream",
     "text": [
      "[10/22 18:18:52.024998][info][4509861][Context.cpp:69] Context created with config: default config!\n",
      "[10/22 18:18:52.025015][info][4509861][Context.cpp:74] Context work_dir=/Users/andrew/Desktop/Projects/RobotArm/tests\n",
      "[10/22 18:18:52.025017][info][4509861][Context.cpp:77] \t- SDK version: 1.9.4\n",
      "[10/22 18:18:52.025024][info][4509861][Context.cpp:78] \t- SDK stage version: main\n",
      "[10/22 18:18:52.025027][info][4509861][Context.cpp:82] get config EnumerateNetDevice:false\n",
      "[10/22 18:18:52.025028][info][4509861][MacPal.cpp:36] createObPal: create MacPal!\n",
      "[10/22 18:18:52.025611][info][4509861][MacPal.cpp:104] Create PollingDeviceWatcher!\n",
      "[10/22 18:18:52.025615][info][4509861][DeviceManager.cpp:15] Current found device(s): (0)\n",
      "[10/22 18:18:52.025618][info][4509861][Pipeline.cpp:15] Try to create pipeline with default device.\n",
      "[10/22 18:18:52.025619][warning][4509861][ObException.cpp:5] No device found, fail to create pipeline!\n",
      "[10/22 18:18:52.025885][info][4509861][Context.cpp:90] Context destroyed\n",
      "Available cameras: [0, 1]\n"
     ]
    },
    {
     "name": "stderr",
     "output_type": "stream",
     "text": [
      "OpenCV: out device of bound (0-1): 2\n",
      "OpenCV: camera failed to properly initialize!\n",
      "[ WARN:0@676.287] global cap.cpp:323 open VIDEOIO(OBSENSOR): raised unknown C++ exception!\n",
      "\n",
      "\n"
     ]
    }
   ],
   "source": [
    "def list_available_cameras():\n",
    "    index = 0\n",
    "    available_cameras = []\n",
    "\n",
    "    while True:\n",
    "        cap = cv2.VideoCapture(index)\n",
    "        if not cap.isOpened():\n",
    "            break\n",
    "        available_cameras.append(index)\n",
    "        cap.release()\n",
    "        index += 1\n",
    "\n",
    "    if available_cameras:\n",
    "        print(f\"Available cameras: {available_cameras}\")\n",
    "    else:\n",
    "        print(\"No cameras found.\")\n",
    "\n",
    "\n",
    "# Call the function\n",
    "list_available_cameras()"
   ]
  },
  {
   "cell_type": "markdown",
   "metadata": {},
   "source": [
    "## Show cameras"
   ]
  },
  {
   "cell_type": "code",
   "execution_count": 10,
   "metadata": {},
   "outputs": [
    {
     "name": "stderr",
     "output_type": "stream",
     "text": [
      "2024-10-22 18:19:45.068 Python[27510:4509861] WARNING: Secure coding is not enabled for restorable state! Enable secure coding by implementing NSApplicationDelegate.applicationSupportsSecureRestorableState: and returning YES.\n"
     ]
    },
    {
     "ename": "",
     "evalue": "",
     "output_type": "error",
     "traceback": [
      "\u001b[1;31mThe Kernel crashed while executing code in the current cell or a previous cell. \n",
      "\u001b[1;31mPlease review the code in the cell(s) to identify a possible cause of the failure. \n",
      "\u001b[1;31mClick <a href='https://aka.ms/vscodeJupyterKernelCrash'>here</a> for more info. \n",
      "\u001b[1;31mView Jupyter <a href='command:jupyter.viewOutput'>log</a> for further details."
     ]
    }
   ],
   "source": [
    "cap = cv2.VideoCapture(1)\n",
    "\n",
    "while cap.isOpened():\n",
    "    ret, frame = cap.read()\n",
    "    if not ret:\n",
    "        break\n",
    "\n",
    "    frame = cv2.flip(frame, 1)\n",
    "    rgb_frame = cv2.cvtColor(frame, cv2.COLOR_BGR2RGB)\n",
    "\n",
    "    cv2.imshow('Robot Tracking', frame)\n",
    "\n",
    "    if cv2.waitKey(10) & 0xFF == ord('q'):\n",
    "        break\n",
    "\n",
    "# Release the capture and close windows\n",
    "cap.release()\n",
    "cv2.destroyAllWindows()"
   ]
  }
 ],
 "metadata": {
  "kernelspec": {
   "display_name": "env",
   "language": "python",
   "name": "python3"
  },
  "language_info": {
   "codemirror_mode": {
    "name": "ipython",
    "version": 3
   },
   "file_extension": ".py",
   "mimetype": "text/x-python",
   "name": "python",
   "nbconvert_exporter": "python",
   "pygments_lexer": "ipython3",
   "version": "3.10.4"
  }
 },
 "nbformat": 4,
 "nbformat_minor": 2
}
